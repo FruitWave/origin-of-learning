{
 "cells": [
  {
   "cell_type": "markdown",
   "metadata": {},
   "source": [
    "# Matrix Operations\n",
    "\n",
    "Matrices are a basic method of storing data in scientific computing. Numerous libraries already exist to do a variety of specialized matrix operations (see [BLAS](https://en.wikipedia.org/wiki/Basic_Linear_Algebra_Subprograms)). Here, we will investigate a few operations on matrices.\n",
    "\n",
    "## Matrix Multiplication\n",
    "\n",
    "Beyond simply adding and subtracting matrices, [Matrix Multiplication](https://en.wikipedia.org/wiki/Matrix_multiplication#General_definition_of_the_matrix_product) is a fundemental operation. In Python, Numpy already offers a means of multiplying matrices using the [`dot`](https://docs.scipy.org/doc/numpy-1.13.0/reference/generated/numpy.dot.html) operation.\n",
    "\n",
    "**Problem:** As a simple sanity check, write a method that does matrix multiplication,"
   ]
  },
  {
   "cell_type": "code",
   "execution_count": 3,
   "metadata": {},
   "outputs": [],
   "source": [
    "import numpy as np\n",
    "import matplotlib.pyplot as plt"
   ]
  },
  {
   "cell_type": "code",
   "execution_count": 4,
   "metadata": {},
   "outputs": [],
   "source": [
    "def matrix_multiplication(A, B):\n",
    "    \"\"\"\n",
    "    A and B will be two dimensional matrices of shape (N, M) and (M, P) respectively\n",
    "    You can index into them by doing A[i][j] or A[i, j] (because they will be numpy matrices)\n",
    "    \n",
    "    Return the product A.dot(B), but write your own code!\n",
    "    \"\"\"\n",
    "    return A.dot(B) # Replace this with you own code!"
   ]
  },
  {
   "cell_type": "markdown",
   "metadata": {},
   "source": [
    "Test the code,"
   ]
  },
  {
   "cell_type": "code",
   "execution_count": 5,
   "metadata": {},
   "outputs": [],
   "source": [
    "for i in range(10):\n",
    "    (N, M, P) = np.random.randint(low=1, high=100, size=3)\n",
    "    A, B = np.random.randn(N, M), np.random.randn(M, P)\n",
    "    assert np.all(A.dot(B) == matrix_multiplication(A, B))"
   ]
  },
  {
   "cell_type": "markdown",
   "metadata": {},
   "source": [
    "## Unitary matrices\n",
    "\n",
    "[Unitary matrices](https://en.wikipedia.org/wiki/Unitary_matrix) have a special property that if you multiply a matrix by it's transpose, then you get the identity matrix.\n",
    "\n",
    "$$\\begin{align}\n",
    "A^T A = \\mathbb{1}\n",
    "\\end{align}$$\n",
    "\n",
    "for example, the following matrices are unitary (called the [SO(2) group](https://en.wikipedia.org/wiki/Orthogonal_group)),"
   ]
  },
  {
   "cell_type": "code",
   "execution_count": 6,
   "metadata": {},
   "outputs": [],
   "source": [
    "def so2(phi):\n",
    "    return np.array([[np.cos(phi), -np.sin(phi)],\n",
    "                     [np.sin(phi),  np.cos(phi)]])"
   ]
  },
  {
   "cell_type": "code",
   "execution_count": 7,
   "metadata": {},
   "outputs": [
    {
     "name": "stdout",
     "output_type": "stream",
     "text": [
      "[[ 0.33046511 -0.94381821]\n",
      " [ 0.94381821  0.33046511]]\n",
      "[[ 1.  0.]\n",
      " [ 0.  1.]]\n"
     ]
    }
   ],
   "source": [
    "A = so2(1.234)\n",
    "print(A)\n",
    "print(A.T.dot(A))"
   ]
  },
  {
   "cell_type": "markdown",
   "metadata": {},
   "source": [
    "**Problem:** Prove analytically, that $ A^T A = \\mathbb{1} $ for all $ \\phi $,\n",
    "\n",
    "$$\\begin{align}\n",
    "A = \\left(\\begin{matrix}\n",
    "\\cos \\phi & -\\sin \\phi \\\\\n",
    "\\sin \\phi & \\cos \\phi\n",
    "\\end{matrix}\\right)\n",
    "\\end{align}$$\n",
    "\n",
    "*Write proof here*"
   ]
  },
  {
   "cell_type": "markdown",
   "metadata": {},
   "source": [
    "**Problem:** For a set of 2D points $ X $, we can graphically see what the SO(2) matrix does to the points. Play with $ phi $ till you can figure out what the matrix is doing."
   ]
  },
  {
   "cell_type": "code",
   "execution_count": 8,
   "metadata": {},
   "outputs": [],
   "source": [
    "X = np.random.randn(2, 3)"
   ]
  },
  {
   "cell_type": "code",
   "execution_count": 9,
   "metadata": {},
   "outputs": [
    {
     "data": {
      "image/png": "[encoded data removed]",
      "text/plain": [
       "<matplotlib.figure.Figure at 0x108ef7ef0>"
      ]
     },
     "metadata": {},
     "output_type": "display_data"
    }
   ],
   "source": [
    "phi = np.pi\n",
    "plt.scatter(X[0, :], X[1, :])\n",
    "Y = so2(phi).dot(X)\n",
    "plt.scatter(Y[0, :], Y[1, :])\n",
    "\n",
    "plt.legend(['original', 'new'])\n",
    "plt.xlim(-2, 2)\n",
    "plt.ylim(-2, 2)\n",
    "plt.show()"
   ]
  },
  {
   "cell_type": "markdown",
   "metadata": {},
   "source": [
    "The norm of a vector $ x $ can be computed like $ \\| x \\|^2 = x^T x $.\n",
    "\n",
    "**Problem:** For any unitary matrix $ U $ (meaning $ U^T U = \\mathbb{1} $), show that $ \\| U x \\| = \\| x \\| $. *Hint, $ (Ax)^T = x^T A^T $*."
   ]
  }
 ],
 "metadata": {
  "kernelspec": {
   "display_name": "Python 3",
   "language": "python",
   "name": "python3"
  },
  "language_info": {
   "codemirror_mode": {
    "name": "ipython",
    "version": 3
   },
   "file_extension": ".py",
   "mimetype": "text/x-python",
   "name": "python",
   "nbconvert_exporter": "python",
   "pygments_lexer": "ipython3",
   "version": "3.6.3"
  }
 },
 "nbformat": 4,
 "nbformat_minor": 2
}
